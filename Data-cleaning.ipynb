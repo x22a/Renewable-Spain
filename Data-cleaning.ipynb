{
 "cells": [
  {
   "cell_type": "markdown",
   "metadata": {},
   "source": [
    "# All data was collected from: https://transparency.entsoe.eu/ \n"
   ]
  },
  {
   "cell_type": "code",
   "execution_count": 1,
   "metadata": {},
   "outputs": [],
   "source": [
    "#Imports\n",
    "\n",
    "import pandas as pd\n",
    "\n",
    "from src.functions import dateTo"
   ]
  },
  {
   "cell_type": "code",
   "execution_count": 2,
   "metadata": {
    "scrolled": true
   },
   "outputs": [],
   "source": [
    "#Year 2016\n",
    "df2016 = pd.read_csv(\"./input/Generation2016.csv\")\n",
    "df2016 = dateTo(df2016)"
   ]
  },
  {
   "cell_type": "code",
   "execution_count": 3,
   "metadata": {},
   "outputs": [],
   "source": [
    "#Year 2017\n",
    "df2017 = pd.read_csv(\"./input/Generation2017.csv\")\n",
    "df2017 = dateTo(df2017)"
   ]
  },
  {
   "cell_type": "code",
   "execution_count": 4,
   "metadata": {},
   "outputs": [],
   "source": [
    "#Year 2018\n",
    "df2018 = pd.read_csv(\"./input/Generation2018.csv\")\n",
    "df2018 = dateTo(df2018)"
   ]
  },
  {
   "cell_type": "code",
   "execution_count": 5,
   "metadata": {},
   "outputs": [],
   "source": [
    "#Year 2019\n",
    "df2019 = pd.read_csv(\"./input/Generation2019.csv\")\n",
    "df2019 = dateTo(df2019)"
   ]
  },
  {
   "cell_type": "code",
   "execution_count": 6,
   "metadata": {},
   "outputs": [],
   "source": [
    "#Year 2020\n",
    "df2020 = pd.read_csv(\"./input/Generation2020.csv\")\n",
    "df2020 = dateTo(df2020)"
   ]
  },
  {
   "cell_type": "code",
   "execution_count": 7,
   "metadata": {
    "scrolled": true
   },
   "outputs": [],
   "source": [
    "#Dropping rows with no value in 2020 ---> From Jan 30 \n",
    "indexToDrop = [i for i in range(720, 8784)]\n",
    "df2020 = df2020.drop(df2020.index[indexToDrop])"
   ]
  },
  {
   "cell_type": "code",
   "execution_count": 8,
   "metadata": {},
   "outputs": [],
   "source": [
    "df = pd.concat([df2016, df2017, df2018, df2019, df2020])\n",
    "df = df.reset_index(drop = True)"
   ]
  },
  {
   "cell_type": "code",
   "execution_count": 9,
   "metadata": {},
   "outputs": [],
   "source": [
    "df.to_csv('./output/clean-dataset.csv', index=False)"
   ]
  }
 ],
 "metadata": {
  "kernelspec": {
   "display_name": "Python 3",
   "language": "python",
   "name": "python3"
  },
  "language_info": {
   "codemirror_mode": {
    "name": "ipython",
    "version": 3
   },
   "file_extension": ".py",
   "mimetype": "text/x-python",
   "name": "python",
   "nbconvert_exporter": "python",
   "pygments_lexer": "ipython3",
   "version": "3.7.5"
  }
 },
 "nbformat": 4,
 "nbformat_minor": 2
}
