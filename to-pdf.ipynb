{
 "cells": [
  {
   "cell_type": "code",
   "execution_count": 1,
   "metadata": {},
   "outputs": [],
   "source": [
    "#imports \n",
    "import matplotlib.pyplot as plt\n",
    "from fpdf import FPDF \n",
    "import pandas as pd \n",
    "from src.functions import *"
   ]
  },
  {
   "cell_type": "code",
   "execution_count": 2,
   "metadata": {},
   "outputs": [
    {
     "data": {
      "image/png": "[encoded data removed]",
      "text/plain": [
       "<Figure size 432x288 with 1 Axes>"
      ]
     },
     "metadata": {},
     "output_type": "display_data"
    }
   ],
   "source": [
    "createPDF('02', '10', '2019')"
   ]
  },
  {
   "cell_type": "code",
   "execution_count": null,
   "metadata": {},
   "outputs": [],
   "source": [
    "def createPDF(day, month, year):\n",
    "    element = requestAemet(day, month, year)[0:2]\n",
    "    dataframe = requestAemet(day, month, year)[2]\n",
    "    piePlotter(element)\n",
    "    pdf = FPDF('P','mm','A4')\n",
    "\n",
    "    # Add page\n",
    "    pdf.add_page()\n",
    "    \n",
    "    pdf.image(\"./output/pie.png\", 10, 170, h=50)\n",
    "\n",
    "    pdf.add_page()\n",
    "    dataframe\n",
    "    # Defining parameters\n",
    "    num_col = len(dataframe.columns)\n",
    "    w,h=190,277\n",
    "    font_type = ('Arial', 'B', 12)\n",
    "    pdf.set_font(*font_type)\n",
    "    pdf.set_text_color(0)\n",
    "    pdf.set_draw_color(0)\n",
    "    pdf.set_line_width(0.2)\n",
    "    for col in dataframe.columns:\n",
    "        pdf.CellFit(w/num_col,10,col,1,0,'C')\n",
    "    pdf.ln()\n",
    "    pdf.set_fill_color(243,95,95)\n",
    "    font_type = ('Arial', '', 8)\n",
    "    pdf.set_font(*font_type)\n",
    "    # iteration rows\n",
    "    for _,row in dataframe.iterrows():\n",
    "        # iterating columns\n",
    "        for value in dataframe.columns:\n",
    "            pdf.cell(w/num_col,10,row[value],1,0,'C',1)\n",
    "        pdf.ln()\n",
    "    pdf.output(\"./output/report.pdf\",'F')"
   ]
  },
  {
   "cell_type": "code",
   "execution_count": null,
   "metadata": {},
   "outputs": [],
   "source": [
    "def fit_word(string,cell_w,font_type):\n",
    "    ver.set_font(*font_type)\n",
    "    # if string fits, return it unchanged\n",
    "    if ver.get_string_width(string)<cell_w:\n",
    "        return string\n",
    "    # cut string until it fits\n",
    "    while ver.get_string_width(string)>=cell_w:\n",
    "        string = string[:-1]\n",
    "    # replace last 3 characters with \"...\"\n",
    "    string = string[:-3] + \"...\"\n",
    "    return string"
   ]
  },
  {
   "cell_type": "code",
   "execution_count": null,
   "metadata": {},
   "outputs": [],
   "source": []
  }
 ],
 "metadata": {
  "kernelspec": {
   "display_name": "Python 3",
   "language": "python",
   "name": "python3"
  },
  "language_info": {
   "codemirror_mode": {
    "name": "ipython",
    "version": 3
   },
   "file_extension": ".py",
   "mimetype": "text/x-python",
   "name": "python",
   "nbconvert_exporter": "python",
   "pygments_lexer": "ipython3",
   "version": "3.7.5"
  }
 },
 "nbformat": 4,
 "nbformat_minor": 2
}
