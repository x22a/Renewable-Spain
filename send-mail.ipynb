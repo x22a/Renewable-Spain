{
 "cells": [
  {
   "cell_type": "code",
   "execution_count": 3,
   "metadata": {},
   "outputs": [
    {
     "name": "stdout",
     "output_type": "stream",
     "text": [
      "Password: ········\n"
     ]
    }
   ],
   "source": [
    "import email, smtplib, ssl, getpass\n",
    "from email import encoders\n",
    "from email.mime.base import MIMEBase\n",
    "from email.mime.multipart import MIMEMultipart\n",
    "from email.mime.text import MIMEText\n",
    "\n",
    "def sendReport(day, month, year, receiver)\n",
    "    subject = f\"Report of {day}-{month}-{year}\"\n",
    "    body = f\"In this report of {day}-{month}-{year}, you can find the information you asked\"\n",
    "    port = 465  # For SSL\n",
    "    password = getpass.getpass(prompt='Password: ', stream=None) \n",
    "    sender_email = \"xabironspam@gmail.com\"\n",
    "    receiver_email = f\"{receiver}\" \n",
    "\n",
    "    # Create a multipart message and set headers\n",
    "    message = MIMEMultipart()\n",
    "    message[\"From\"] = sender_email\n",
    "    message[\"To\"] = receiver_email\n",
    "    message[\"Subject\"] = subject\n",
    "    message[\"Bcc\"] = receiver_email  # Recommended for mass emails\n",
    "\n",
    "    # Add body to email\n",
    "    message.attach(MIMEText(body, \"plain\"))\n",
    "    filename = \"./output/report.pdf\"\n",
    "\n",
    "    # Open PDF file in binary mode\n",
    "    with open(filename, \"rb\") as attachment:\n",
    "        # Add file as application/octet-stream\n",
    "        # Email client can usually download this automatically as attachment\n",
    "        part = MIMEBase(\"application\", \"octet-stream\")\n",
    "        part.set_payload(attachment.read())\n",
    "\n",
    "    # Encode file in ASCII characters to send by email    \n",
    "    encoders.encode_base64(part)\n",
    "\n",
    "    # Add header as key/value pair to attachment part\n",
    "    part.add_header(\n",
    "        \"Content-Disposition\",\n",
    "        f\"attachment; filename= {filename}\",\n",
    "    )\n",
    "    # Add attachment to message and convert message to string\n",
    "    message.attach(part)\n",
    "    text = message.as_string()\n",
    "\n",
    "    # Create a secure SSL context\n",
    "    context = ssl.create_default_context()\n",
    "\n",
    "    with smtplib.SMTP_SSL(\"smtp.gmail.com\", port, context=context) as server:\n",
    "        server.login(\"xabironspam@gmail.com\", password)\n",
    "        # TODO: Send email here\n",
    "        server.sendmail(sender_email, receiver_email, text)"
   ]
  },
  {
   "cell_type": "code",
   "execution_count": null,
   "metadata": {},
   "outputs": [],
   "source": []
  }
 ],
 "metadata": {
  "kernelspec": {
   "display_name": "Python 3",
   "language": "python",
   "name": "python3"
  },
  "language_info": {
   "codemirror_mode": {
    "name": "ipython",
    "version": 3
   },
   "file_extension": ".py",
   "mimetype": "text/x-python",
   "name": "python",
   "nbconvert_exporter": "python",
   "pygments_lexer": "ipython3",
   "version": "3.7.5"
  }
 },
 "nbformat": 4,
 "nbformat_minor": 2
}
